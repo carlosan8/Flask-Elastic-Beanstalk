{
  "nbformat": 4,
  "nbformat_minor": 0,
  "metadata": {
    "colab": {
      "provenance": [],
      "authorship_tag": "ABX9TyONJ+siOLj+gf4xH/LEDxUQ",
      "include_colab_link": true
    },
    "kernelspec": {
      "name": "python3",
      "display_name": "Python 3"
    },
    "language_info": {
      "name": "python"
    }
  },
  "cells": [
    {
      "cell_type": "markdown",
      "metadata": {
        "id": "view-in-github",
        "colab_type": "text"
      },
      "source": [
        "<a href=\"https://colab.research.google.com/github/carlosan8/Flask-Elastic-Beanstalk/blob/main/projeto_Imersao_aula4.ipynb\" target=\"_parent\"><img src=\"https://colab.research.google.com/assets/colab-badge.svg\" alt=\"Open In Colab\"/></a>"
      ]
    },
    {
      "cell_type": "markdown",
      "source": [
        "Este chatbot fornece o Código Internacional de Doença - CID atualmente utilizado no Brasil a partir da doença ou síndrome ou transtorno ou distúrbio digitado pelo usuário."
      ],
      "metadata": {
        "id": "uznJ0KEb4LiF"
      }
    },
    {
      "cell_type": "markdown",
      "source": [
        "Instalar o pacote do google-generativeai."
      ],
      "metadata": {
        "id": "S57arBtYsdB_"
      }
    },
    {
      "cell_type": "code",
      "execution_count": 6,
      "metadata": {
        "id": "bc5g8aI_iYHK"
      },
      "outputs": [],
      "source": [
        "!pip install -U -q google-generativeai"
      ]
    },
    {
      "cell_type": "markdown",
      "source": [
        "Importar bibliotecas renomeando-as."
      ],
      "metadata": {
        "id": "Vn0x6m48i2L-"
      }
    },
    {
      "cell_type": "code",
      "execution_count": 7,
      "metadata": {
        "id": "YzinIAc6igOY"
      },
      "outputs": [],
      "source": [
        "import numpy as np\n",
        "import pandas as pd\n",
        "import google.generativeai as genai"
      ]
    },
    {
      "cell_type": "markdown",
      "source": [
        "Configurar a API_KEY"
      ],
      "metadata": {
        "id": "hDjHOR97jmDj"
      }
    },
    {
      "cell_type": "code",
      "source": [
        "GOOGLE_API_KEY=\"Cole sua API KEY aqui\"\n",
        "genai.configure(api_key=GOOGLE_API_KEY)"
      ],
      "metadata": {
        "id": "BsSVJwlNivje"
      },
      "execution_count": 8,
      "outputs": []
    },
    {
      "cell_type": "markdown",
      "source": [
        "Gera o modelo a ser utilizado pela aplicação."
      ],
      "metadata": {
        "id": "v9Y-BXL6tzW8"
      }
    },
    {
      "cell_type": "code",
      "source": [
        "model = genai.GenerativeModel(\"gemini-pro\")"
      ],
      "metadata": {
        "id": "eRVt7qHWt0OS"
      },
      "execution_count": 9,
      "outputs": []
    },
    {
      "cell_type": "markdown",
      "source": [
        "Gera modelo"
      ],
      "metadata": {
        "id": "MWMEvi5iFETe"
      }
    },
    {
      "cell_type": "code",
      "source": [
        "#Define variáveis e solicita que o usuário digite uma doença ou síndrome ou transtorno ou distúrbio.\n",
        "V1_entrada =\"Utilize a versão atualizada do CID no Brasil. Quais as Classificações Estatísticas Internacional de Doenças na versão atual no Brasil para \"\n",
        "vcont = \"S\"\n",
        "\n",
        "while vcont == \"S\":\n",
        "    Recebe_entrada = input(\"Digite uma doença ou síndrome ou transtorno ou distúrbio: \")\n",
        "\n",
        "    #Processa entrada e imprime resultado\n",
        "    response = model.generate_content(V1_entrada + Recebe_entrada)\n",
        "    print(response.text)\n",
        "\n",
        "    #Pergunta ao usuário se deseja fazer nova consulta\n",
        "    while True:\n",
        "        if input(\"\\n Deseja fazer nova consulta (S para sim ou N para não)? \").upper() == \"N\":\n",
        "            vcont = \"N\"\n",
        "            break\n",
        "        else:\n",
        "            print(\"\\nPor favor digite S ou N\")\n"
      ],
      "metadata": {
        "id": "NUhyov7S9agp"
      },
      "execution_count": null,
      "outputs": []
    }
  ]
}